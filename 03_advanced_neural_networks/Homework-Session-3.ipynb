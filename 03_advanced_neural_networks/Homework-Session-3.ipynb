{
 "cells": [
  {
   "cell_type": "code",
   "execution_count": 1,
   "id": "8902267d-5805-4206-9837-e3aef99da8c3",
   "metadata": {},
   "outputs": [],
   "source": [
    "import torch, torchvision"
   ]
  },
  {
   "cell_type": "code",
   "execution_count": 2,
   "id": "4cce33de-f071-402a-85ed-a406b6603916",
   "metadata": {
    "editable": true,
    "slideshow": {
     "slide_type": ""
    },
    "tags": []
   },
   "outputs": [
    {
     "name": "stderr",
     "output_type": "stream",
     "text": [
      "/soft/applications/conda/2024-04-29/mconda3/lib/python3.11/site-packages/torchvision/transforms/v2/_deprecated.py:42: UserWarning: The transform `ToTensor()` is deprecated and will be removed in a future release. Instead, please use `v2.Compose([v2.ToImage(), v2.ToDtype(torch.float32, scale=True)])`.Output is equivalent up to float precision.\n",
      "  warnings.warn(\n"
     ]
    }
   ],
   "source": [
    "from torchvision.transforms import v2\n",
    "training_data = torchvision.datasets.CIFAR10(\n",
    "    root=\"/lus/eagle/projects/datasets/CIFAR-10/\",\n",
    "    download=False,\n",
    "    #root=\"data\",\n",
    "    #download=True,\n",
    "    train=True,\n",
    "    transform=v2.Compose([\n",
    "        v2.ToTensor(),\n",
    "        v2.RandomHorizontalFlip(),\n",
    "        v2.RandomResizedCrop(size=32, scale=[0.85,1.0], antialias=False),\n",
    "        v2.ColorJitter(brightness=0.2, contrast=0.2, saturation=0.2),\n",
    "    ])\n",
    ")\n",
    "\n",
    "test_data = torchvision.datasets.CIFAR10(\n",
    "    root=\"/lus/eagle/projects/datasets/CIFAR-10/\",\n",
    "    download=False,\n",
    "    #root=\"data\",\n",
    "    #download=True,\n",
    "    train=False,\n",
    "    transform=torchvision.transforms.ToTensor()\n",
    ")\n",
    "\n",
    "training_data, validation_data = torch.utils.data.random_split(training_data, [0.8, 0.2], generator=torch.Generator().manual_seed(55))\n",
    "\n",
    "batch_size = 128\n",
    "\n",
    "# The dataloader makes our dataset iterable \n",
    "train_dataloader = torch.utils.data.DataLoader(training_data, \n",
    "    batch_size=batch_size, \n",
    "    pin_memory=True,\n",
    "    shuffle=True, \n",
    "    num_workers=2)\n",
    "val_dataloader = torch.utils.data.DataLoader(validation_data, \n",
    "    batch_size=batch_size, \n",
    "    pin_memory=True,\n",
    "    shuffle=False, \n",
    "    num_workers=2)"
   ]
  },
  {
   "cell_type": "code",
   "execution_count": 3,
   "id": "a518dae7-68b6-4c73-86c8-6ef40d5ce580",
   "metadata": {},
   "outputs": [],
   "source": [
    "from matplotlib import pyplot as plt\n",
    "%matplotlib inline"
   ]
  },
  {
   "cell_type": "code",
   "execution_count": 4,
   "id": "b4f044e7-eb23-4c5c-b702-ba4b84712731",
   "metadata": {
    "editable": true,
    "slideshow": {
     "slide_type": ""
    },
    "tags": []
   },
   "outputs": [],
   "source": [
    "dev = torch.device(\n",
    "    \"cuda\") if torch.cuda.is_available() else torch.device(\"cpu\")\n",
    "\n",
    "\n",
    "def preprocess(x, y):\n",
    "    # CIFAR-10 is *color* images so 3 layers!\n",
    "    return x.view(-1, 3, 32, 32).to(dev), y.to(dev)\n",
    "\n",
    "\n",
    "class WrappedDataLoader:\n",
    "    def __init__(self, dl, func):\n",
    "        self.dl = dl\n",
    "        self.func = func\n",
    "\n",
    "    def __len__(self):\n",
    "        return len(self.dl)\n",
    "\n",
    "    def __iter__(self):\n",
    "        for b in self.dl:\n",
    "            yield (self.func(*b))\n",
    "\n",
    "\n",
    "train_dataloader = WrappedDataLoader(train_dataloader, preprocess)\n",
    "val_dataloader = WrappedDataLoader(val_dataloader, preprocess)"
   ]
  },
  {
   "cell_type": "code",
   "execution_count": 5,
   "id": "434b8fee-2973-458b-a236-e17d1551e1fc",
   "metadata": {
    "editable": true,
    "slideshow": {
     "slide_type": ""
    },
    "tags": []
   },
   "outputs": [],
   "source": [
    "from torch import nn\n",
    "\n",
    "\n",
    "class Downsampler(nn.Module):\n",
    "\n",
    "    def __init__(self, in_channels, out_channels, shape, stride=2):\n",
    "        super(Downsampler, self).__init__()\n",
    "\n",
    "        self.norm = nn.LayerNorm([in_channels, *shape])\n",
    "\n",
    "        self.downsample = nn.Conv2d(\n",
    "            in_channels=in_channels, \n",
    "            out_channels=out_channels,\n",
    "            kernel_size = stride,\n",
    "            stride = stride,\n",
    "        )\n",
    "    \n",
    "    def forward(self, inputs):\n",
    "\n",
    "\n",
    "        return self.downsample(self.norm(inputs))\n",
    "        \n",
    "        \n",
    "\n",
    "class ConvNextBlock(nn.Module):\n",
    "    \"\"\"This block of operations is loosely based on this paper:\n",
    "\n",
    "    \"\"\"\n",
    "\n",
    "\n",
    "    def __init__(self, in_channels, shape):\n",
    "        super(ConvNextBlock, self).__init__()\n",
    "\n",
    "        # Depthwise, seperable convolution with a large number of output filters:\n",
    "        self.conv1 = nn.Conv2d(in_channels=in_channels, \n",
    "                                     out_channels=in_channels, \n",
    "                                     groups=in_channels,\n",
    "                                     kernel_size=7,\n",
    "                                     padding='same' )\n",
    "\n",
    "        self.norm = nn.LayerNorm([in_channels, *shape])\n",
    "\n",
    "        # Two more convolutions:\n",
    "        self.conv2 = nn.Conv2d(in_channels=in_channels, \n",
    "                                     out_channels=4*in_channels,\n",
    "                                     kernel_size=7,\n",
    "                                     padding='same' )\n",
    "\n",
    "        self.conv3 = nn.Conv2d(in_channels=4*in_channels, \n",
    "                                     out_channels=in_channels,\n",
    "                                     kernel_size=7,\n",
    "                                     padding='same' )\n",
    "\n",
    "\n",
    "\n",
    "    def forward(self, inputs):\n",
    "        x = self.conv1(inputs)\n",
    "\n",
    "        # The normalization layer:\n",
    "        x = self.norm(x)\n",
    "\n",
    "        x = self.conv2(x)\n",
    "\n",
    "        # The non-linear activation layer:\n",
    "        x = torch.nn.functional.gelu(x)\n",
    "\n",
    "        x = self.conv3(x)\n",
    "\n",
    "        # This makes it a residual network:\n",
    "        return x + inputs\n",
    "    \n",
    "\n",
    "class Classifier(nn.Module):\n",
    "\n",
    "\n",
    "    def __init__(self, n_initial_filters, n_stages, blocks_per_stage):\n",
    "        super(Classifier, self).__init__()\n",
    "\n",
    "        # This is a downsampling convolution that will produce patches of output.\n",
    "\n",
    "        # This is similar to what vision transformers do to tokenize the images.\n",
    "        self.stem = nn.Conv2d(in_channels=3,\n",
    "                                    out_channels=n_initial_filters,\n",
    "                                    kernel_size=7,\n",
    "                                    padding='same', \n",
    "                                    stride=1)\n",
    "        \n",
    "        current_shape = [32, 32]\n",
    "\n",
    "        self.norm1 = nn.LayerNorm([n_initial_filters,*current_shape])\n",
    "        # self.norm1 = WrappedLayerNorm()\n",
    "\n",
    "        current_n_filters = n_initial_filters\n",
    "        \n",
    "        self.layers = nn.Sequential()\n",
    "        for i, n_blocks in enumerate(range(n_stages)):\n",
    "            # Add a convnext block series:\n",
    "            for _ in range(blocks_per_stage):\n",
    "                self.layers.append(ConvNextBlock(in_channels=current_n_filters, shape=current_shape))\n",
    "            # Add a downsampling layer:\n",
    "            if i != n_stages - 1:\n",
    "                # Skip downsampling if it's the last layer!\n",
    "                self.layers.append(Downsampler(\n",
    "                    in_channels=current_n_filters, \n",
    "                    out_channels=2*current_n_filters,\n",
    "                    shape = current_shape,\n",
    "                    )\n",
    "                )\n",
    "                # Double the number of filters:\n",
    "                current_n_filters = 2*current_n_filters\n",
    "                # Cut the shape in half:\n",
    "                current_shape = [ cs // 2 for cs in current_shape]\n",
    "            \n",
    "\n",
    "\n",
    "        self.head = nn.Sequential(\n",
    "            nn.Flatten(),\n",
    "            nn.LayerNorm(current_n_filters),\n",
    "            nn.Linear(current_n_filters, 10)\n",
    "        )\n",
    "        # self.norm2 = nn.InstanceNorm2d(current_n_filters)\n",
    "        # # This brings it down to one channel / class\n",
    "        # self.bottleneck = nn.Conv2d(in_channels=current_n_filters, out_channels=10, \n",
    "        #                                   kernel_size=1, stride=1)\n",
    "\n",
    "    def forward(self, inputs):\n",
    "\n",
    "        x = self.stem(inputs)\n",
    "        # Apply a normalization after the initial patching:\n",
    "        x = self.norm1(x)\n",
    "\n",
    "        # Apply the main chunk of the network:\n",
    "        x = self.layers(x)\n",
    "\n",
    "        # Normalize and readout:\n",
    "        x = nn.functional.avg_pool2d(x, x.shape[2:])\n",
    "        x = self.head(x)\n",
    "\n",
    "        return x\n",
    "\n",
    "\n",
    "\n",
    "        # x = self.norm2(x)\n",
    "        # x = self.bottleneck(x)\n",
    "\n",
    "        # # Average pooling of the remaining spatial dimensions (and reshape) makes this label-like:\n",
    "        # return nn.functional.avg_pool2d(x, kernel_size=x.shape[-2:]).reshape((-1,10))"
   ]
  },
  {
   "cell_type": "code",
   "execution_count": 6,
   "id": "a6bb2420-5421-45fc-88ef-ee12b986f953",
   "metadata": {
    "editable": true,
    "slideshow": {
     "slide_type": ""
    },
    "tags": []
   },
   "outputs": [
    {
     "name": "stdout",
     "output_type": "stream",
     "text": [
      "==========================================================================================\n",
      "Layer (type:depth-idx)                   Output Shape              Param #\n",
      "==========================================================================================\n",
      "Classifier                               [128, 10]                 --\n",
      "├─Conv2d: 1-1                            [128, 32, 32, 32]         4,736\n",
      "├─LayerNorm: 1-2                         [128, 32, 32, 32]         65,536\n",
      "├─Sequential: 1-3                        [128, 1024, 1, 1]         --\n",
      "│    └─ConvNextBlock: 2-1                [128, 32, 32, 32]         --\n",
      "│    │    └─Conv2d: 3-1                  [128, 32, 32, 32]         1,600\n",
      "│    │    └─LayerNorm: 3-2               [128, 32, 32, 32]         65,536\n",
      "│    │    └─Conv2d: 3-3                  [128, 128, 32, 32]        200,832\n",
      "│    │    └─Conv2d: 3-4                  [128, 32, 32, 32]         200,736\n",
      "│    └─ConvNextBlock: 2-2                [128, 32, 32, 32]         --\n",
      "│    │    └─Conv2d: 3-5                  [128, 32, 32, 32]         1,600\n",
      "│    │    └─LayerNorm: 3-6               [128, 32, 32, 32]         65,536\n",
      "│    │    └─Conv2d: 3-7                  [128, 128, 32, 32]        200,832\n",
      "│    │    └─Conv2d: 3-8                  [128, 32, 32, 32]         200,736\n",
      "│    └─ConvNextBlock: 2-3                [128, 32, 32, 32]         --\n",
      "│    │    └─Conv2d: 3-9                  [128, 32, 32, 32]         1,600\n",
      "│    │    └─LayerNorm: 3-10              [128, 32, 32, 32]         65,536\n",
      "│    │    └─Conv2d: 3-11                 [128, 128, 32, 32]        200,832\n",
      "│    │    └─Conv2d: 3-12                 [128, 32, 32, 32]         200,736\n",
      "│    └─ConvNextBlock: 2-4                [128, 32, 32, 32]         --\n",
      "│    │    └─Conv2d: 3-13                 [128, 32, 32, 32]         1,600\n",
      "│    │    └─LayerNorm: 3-14              [128, 32, 32, 32]         65,536\n",
      "│    │    └─Conv2d: 3-15                 [128, 128, 32, 32]        200,832\n",
      "│    │    └─Conv2d: 3-16                 [128, 32, 32, 32]         200,736\n",
      "│    └─Downsampler: 2-5                  [128, 64, 16, 16]         --\n",
      "│    │    └─LayerNorm: 3-17              [128, 32, 32, 32]         65,536\n",
      "│    │    └─Conv2d: 3-18                 [128, 64, 16, 16]         8,256\n",
      "│    └─ConvNextBlock: 2-6                [128, 64, 16, 16]         --\n",
      "│    │    └─Conv2d: 3-19                 [128, 64, 16, 16]         3,200\n",
      "│    │    └─LayerNorm: 3-20              [128, 64, 16, 16]         32,768\n",
      "│    │    └─Conv2d: 3-21                 [128, 256, 16, 16]        803,072\n",
      "│    │    └─Conv2d: 3-22                 [128, 64, 16, 16]         802,880\n",
      "│    └─ConvNextBlock: 2-7                [128, 64, 16, 16]         --\n",
      "│    │    └─Conv2d: 3-23                 [128, 64, 16, 16]         3,200\n",
      "│    │    └─LayerNorm: 3-24              [128, 64, 16, 16]         32,768\n",
      "│    │    └─Conv2d: 3-25                 [128, 256, 16, 16]        803,072\n",
      "│    │    └─Conv2d: 3-26                 [128, 64, 16, 16]         802,880\n",
      "│    └─ConvNextBlock: 2-8                [128, 64, 16, 16]         --\n",
      "│    │    └─Conv2d: 3-27                 [128, 64, 16, 16]         3,200\n",
      "│    │    └─LayerNorm: 3-28              [128, 64, 16, 16]         32,768\n",
      "│    │    └─Conv2d: 3-29                 [128, 256, 16, 16]        803,072\n",
      "│    │    └─Conv2d: 3-30                 [128, 64, 16, 16]         802,880\n",
      "│    └─ConvNextBlock: 2-9                [128, 64, 16, 16]         --\n",
      "│    │    └─Conv2d: 3-31                 [128, 64, 16, 16]         3,200\n",
      "│    │    └─LayerNorm: 3-32              [128, 64, 16, 16]         32,768\n",
      "│    │    └─Conv2d: 3-33                 [128, 256, 16, 16]        803,072\n",
      "│    │    └─Conv2d: 3-34                 [128, 64, 16, 16]         802,880\n",
      "│    └─Downsampler: 2-10                 [128, 128, 8, 8]          --\n",
      "│    │    └─LayerNorm: 3-35              [128, 64, 16, 16]         32,768\n",
      "│    │    └─Conv2d: 3-36                 [128, 128, 8, 8]          32,896\n",
      "│    └─ConvNextBlock: 2-11               [128, 128, 8, 8]          --\n",
      "│    │    └─Conv2d: 3-37                 [128, 128, 8, 8]          6,400\n",
      "│    │    └─LayerNorm: 3-38              [128, 128, 8, 8]          16,384\n",
      "│    │    └─Conv2d: 3-39                 [128, 512, 8, 8]          3,211,776\n",
      "│    │    └─Conv2d: 3-40                 [128, 128, 8, 8]          3,211,392\n",
      "│    └─ConvNextBlock: 2-12               [128, 128, 8, 8]          --\n",
      "│    │    └─Conv2d: 3-41                 [128, 128, 8, 8]          6,400\n",
      "│    │    └─LayerNorm: 3-42              [128, 128, 8, 8]          16,384\n",
      "│    │    └─Conv2d: 3-43                 [128, 512, 8, 8]          3,211,776\n",
      "│    │    └─Conv2d: 3-44                 [128, 128, 8, 8]          3,211,392\n",
      "│    └─ConvNextBlock: 2-13               [128, 128, 8, 8]          --\n",
      "│    │    └─Conv2d: 3-45                 [128, 128, 8, 8]          6,400\n",
      "│    │    └─LayerNorm: 3-46              [128, 128, 8, 8]          16,384\n",
      "│    │    └─Conv2d: 3-47                 [128, 512, 8, 8]          3,211,776\n",
      "│    │    └─Conv2d: 3-48                 [128, 128, 8, 8]          3,211,392\n",
      "│    └─ConvNextBlock: 2-14               [128, 128, 8, 8]          --\n",
      "│    │    └─Conv2d: 3-49                 [128, 128, 8, 8]          6,400\n",
      "│    │    └─LayerNorm: 3-50              [128, 128, 8, 8]          16,384\n",
      "│    │    └─Conv2d: 3-51                 [128, 512, 8, 8]          3,211,776\n",
      "│    │    └─Conv2d: 3-52                 [128, 128, 8, 8]          3,211,392\n",
      "│    └─Downsampler: 2-15                 [128, 256, 4, 4]          --\n",
      "│    │    └─LayerNorm: 3-53              [128, 128, 8, 8]          16,384\n",
      "│    │    └─Conv2d: 3-54                 [128, 256, 4, 4]          131,328\n",
      "│    └─ConvNextBlock: 2-16               [128, 256, 4, 4]          --\n",
      "│    │    └─Conv2d: 3-55                 [128, 256, 4, 4]          12,800\n",
      "│    │    └─LayerNorm: 3-56              [128, 256, 4, 4]          8,192\n",
      "│    │    └─Conv2d: 3-57                 [128, 1024, 4, 4]         12,846,080\n",
      "│    │    └─Conv2d: 3-58                 [128, 256, 4, 4]          12,845,312\n",
      "│    └─ConvNextBlock: 2-17               [128, 256, 4, 4]          --\n",
      "│    │    └─Conv2d: 3-59                 [128, 256, 4, 4]          12,800\n",
      "│    │    └─LayerNorm: 3-60              [128, 256, 4, 4]          8,192\n",
      "│    │    └─Conv2d: 3-61                 [128, 1024, 4, 4]         12,846,080\n",
      "│    │    └─Conv2d: 3-62                 [128, 256, 4, 4]          12,845,312\n",
      "│    └─ConvNextBlock: 2-18               [128, 256, 4, 4]          --\n",
      "│    │    └─Conv2d: 3-63                 [128, 256, 4, 4]          12,800\n",
      "│    │    └─LayerNorm: 3-64              [128, 256, 4, 4]          8,192\n",
      "│    │    └─Conv2d: 3-65                 [128, 1024, 4, 4]         12,846,080\n",
      "│    │    └─Conv2d: 3-66                 [128, 256, 4, 4]          12,845,312\n",
      "│    └─ConvNextBlock: 2-19               [128, 256, 4, 4]          --\n",
      "│    │    └─Conv2d: 3-67                 [128, 256, 4, 4]          12,800\n",
      "│    │    └─LayerNorm: 3-68              [128, 256, 4, 4]          8,192\n",
      "│    │    └─Conv2d: 3-69                 [128, 1024, 4, 4]         12,846,080\n",
      "│    │    └─Conv2d: 3-70                 [128, 256, 4, 4]          12,845,312\n",
      "│    └─Downsampler: 2-20                 [128, 512, 2, 2]          --\n",
      "│    │    └─LayerNorm: 3-71              [128, 256, 4, 4]          8,192\n",
      "│    │    └─Conv2d: 3-72                 [128, 512, 2, 2]          524,800\n",
      "│    └─ConvNextBlock: 2-21               [128, 512, 2, 2]          --\n",
      "│    │    └─Conv2d: 3-73                 [128, 512, 2, 2]          25,600\n",
      "│    │    └─LayerNorm: 3-74              [128, 512, 2, 2]          4,096\n",
      "│    │    └─Conv2d: 3-75                 [128, 2048, 2, 2]         51,382,272\n",
      "│    │    └─Conv2d: 3-76                 [128, 512, 2, 2]          51,380,736\n",
      "│    └─ConvNextBlock: 2-22               [128, 512, 2, 2]          --\n",
      "│    │    └─Conv2d: 3-77                 [128, 512, 2, 2]          25,600\n",
      "│    │    └─LayerNorm: 3-78              [128, 512, 2, 2]          4,096\n",
      "│    │    └─Conv2d: 3-79                 [128, 2048, 2, 2]         51,382,272\n",
      "│    │    └─Conv2d: 3-80                 [128, 512, 2, 2]          51,380,736\n",
      "│    └─ConvNextBlock: 2-23               [128, 512, 2, 2]          --\n",
      "│    │    └─Conv2d: 3-81                 [128, 512, 2, 2]          25,600\n",
      "│    │    └─LayerNorm: 3-82              [128, 512, 2, 2]          4,096\n",
      "│    │    └─Conv2d: 3-83                 [128, 2048, 2, 2]         51,382,272\n",
      "│    │    └─Conv2d: 3-84                 [128, 512, 2, 2]          51,380,736\n",
      "│    └─ConvNextBlock: 2-24               [128, 512, 2, 2]          --\n",
      "│    │    └─Conv2d: 3-85                 [128, 512, 2, 2]          25,600\n",
      "│    │    └─LayerNorm: 3-86              [128, 512, 2, 2]          4,096\n",
      "│    │    └─Conv2d: 3-87                 [128, 2048, 2, 2]         51,382,272\n",
      "│    │    └─Conv2d: 3-88                 [128, 512, 2, 2]          51,380,736\n",
      "│    └─Downsampler: 2-25                 [128, 1024, 1, 1]         --\n",
      "│    │    └─LayerNorm: 3-89              [128, 512, 2, 2]          4,096\n",
      "│    │    └─Conv2d: 3-90                 [128, 1024, 1, 1]         2,098,176\n",
      "│    └─ConvNextBlock: 2-26               [128, 1024, 1, 1]         --\n",
      "│    │    └─Conv2d: 3-91                 [128, 1024, 1, 1]         51,200\n",
      "│    │    └─LayerNorm: 3-92              [128, 1024, 1, 1]         2,048\n",
      "│    │    └─Conv2d: 3-93                 [128, 4096, 1, 1]         205,524,992\n",
      "│    │    └─Conv2d: 3-94                 [128, 1024, 1, 1]         205,521,920\n",
      "│    └─ConvNextBlock: 2-27               [128, 1024, 1, 1]         --\n",
      "│    │    └─Conv2d: 3-95                 [128, 1024, 1, 1]         51,200\n",
      "│    │    └─LayerNorm: 3-96              [128, 1024, 1, 1]         2,048\n",
      "│    │    └─Conv2d: 3-97                 [128, 4096, 1, 1]         205,524,992\n",
      "│    │    └─Conv2d: 3-98                 [128, 1024, 1, 1]         205,521,920\n",
      "│    └─ConvNextBlock: 2-28               [128, 1024, 1, 1]         --\n",
      "│    │    └─Conv2d: 3-99                 [128, 1024, 1, 1]         51,200\n",
      "│    │    └─LayerNorm: 3-100             [128, 1024, 1, 1]         2,048\n",
      "│    │    └─Conv2d: 3-101                [128, 4096, 1, 1]         205,524,992\n",
      "│    │    └─Conv2d: 3-102                [128, 1024, 1, 1]         205,521,920\n",
      "│    └─ConvNextBlock: 2-29               [128, 1024, 1, 1]         --\n",
      "│    │    └─Conv2d: 3-103                [128, 1024, 1, 1]         51,200\n",
      "│    │    └─LayerNorm: 3-104             [128, 1024, 1, 1]         2,048\n",
      "│    │    └─Conv2d: 3-105                [128, 4096, 1, 1]         205,524,992\n",
      "│    │    └─Conv2d: 3-106                [128, 1024, 1, 1]         205,521,920\n",
      "├─Sequential: 1-4                        [128, 10]                 --\n",
      "│    └─Flatten: 2-30                     [128, 1024]               --\n",
      "│    └─LayerNorm: 2-31                   [128, 1024]               2,048\n",
      "│    └─Linear: 2-32                      [128, 10]                 10,250\n",
      "==========================================================================================\n",
      "Total params: 2,195,652,298\n",
      "Trainable params: 2,195,652,298\n",
      "Non-trainable params: 0\n",
      "Total mult-adds (Units.TERABYTES): 1.27\n",
      "==========================================================================================\n",
      "Input size (MB): 1.57\n",
      "Forward/backward pass size (MB): 2015.37\n",
      "Params size (MB): 8782.61\n",
      "Estimated Total Size (MB): 10799.56\n",
      "==========================================================================================\n"
     ]
    },
    {
     "name": "stderr",
     "output_type": "stream",
     "text": [
      "/soft/applications/conda/2024-04-29/mconda3/lib/python3.11/site-packages/torch/nn/modules/conv.py:456: UserWarning: Plan failed with a cudnnException: CUDNN_BACKEND_EXECUTION_PLAN_DESCRIPTOR: cudnnFinalize Descriptor Failed cudnn_status: CUDNN_STATUS_NOT_SUPPORTED (Triggered internally at /soft/applications/conda/2024-04-29/pytorch/aten/src/ATen/native/cudnn/Conv_v8.cpp:919.)\n",
      "  return F.conv2d(input, weight, bias, self.stride,\n"
     ]
    }
   ],
   "source": [
    "model = Classifier(32, 6, 4).to(device=dev)  # n_initial_filters, n_stages, blocks_per_stage\n",
    "\n",
    "from torchinfo import summary\n",
    "\n",
    "print(summary(model, input_size=(batch_size, 3, 32, 32)))\n",
    "\n",
    "# (16,4,2) -> 76%"
   ]
  },
  {
   "cell_type": "code",
   "execution_count": 7,
   "id": "97db6346-0f29-4bb6-a5cf-d3f4ca22215a",
   "metadata": {
    "editable": true,
    "slideshow": {
     "slide_type": ""
    },
    "tags": []
   },
   "outputs": [],
   "source": [
    "def evaluate(dataloader, model, loss_fn, val_bar):\n",
    "    # Set the model to evaluation mode - some NN pieces behave differently during training\n",
    "    # Unnecessary in this situation but added for best practices\n",
    "    model.eval()\n",
    "    size = len(dataloader)\n",
    "    num_batches = len(dataloader)\n",
    "    loss, correct = 0, 0\n",
    "\n",
    "    # We can save computation and memory by not calculating gradients here - we aren't optimizing \n",
    "    with torch.no_grad():\n",
    "        # loop over all of the batches\n",
    "        for X, y in dataloader:\n",
    "\n",
    "            pred = model(X)\n",
    "            loss += loss_fn(pred, y).item()\n",
    "            # how many are correct in this batch? Tracking for accuracy \n",
    "            correct += (pred.argmax(1) == y).type(torch.float).sum().item()\n",
    "            val_bar.update()\n",
    "            \n",
    "    loss /= num_batches\n",
    "    correct /= (size*batch_size)\n",
    "    \n",
    "    accuracy = 100*correct\n",
    "    return accuracy, loss"
   ]
  },
  {
   "cell_type": "code",
   "execution_count": 8,
   "id": "967d0ab2-62b6-462e-b9ec-ca224669bb39",
   "metadata": {
    "editable": true,
    "slideshow": {
     "slide_type": ""
    },
    "tags": []
   },
   "outputs": [],
   "source": [
    "def train_one_epoch(dataloader, model, loss_fn, optimizer, progress_bar):\n",
    "    model.train()\n",
    "    for batch, (X, y) in enumerate(dataloader):\n",
    "        # forward pass\n",
    "        pred = model(X)\n",
    "        loss = loss_fn(pred, y)\n",
    "        \n",
    "        # backward pass calculates gradients\n",
    "        loss.backward()\n",
    "        \n",
    "        # take one step with these gradients\n",
    "        optimizer.step()\n",
    "        \n",
    "        # resets the gradients \n",
    "        optimizer.zero_grad()      \n",
    "\n",
    "        progress_bar.update()"
   ]
  },
  {
   "cell_type": "code",
   "execution_count": 9,
   "id": "1545517c-455f-4ecc-82bf-db5158e80bd6",
   "metadata": {
    "editable": true,
    "slideshow": {
     "slide_type": ""
    },
    "tags": []
   },
   "outputs": [],
   "source": [
    "loss_fn = nn.CrossEntropyLoss()\n",
    "optimizer = torch.optim.SGD(model.parameters(), lr=0.005, weight_decay=0.01)"
   ]
  },
  {
   "cell_type": "code",
   "execution_count": 13,
   "id": "a7748709-29c4-423e-ab19-dc8593682335",
   "metadata": {
    "editable": true,
    "slideshow": {
     "slide_type": ""
    },
    "tags": []
   },
   "outputs": [
    {
     "data": {
      "application/vnd.jupyter.widget-view+json": {
       "model_id": "04cc4b18cb844d4cbf01576b69ddcc73",
       "version_major": 2,
       "version_minor": 0
      },
      "text/plain": [
       "Train Epoch 0:   0%|          | 0/313 [00:00<?, ?it/s]"
      ]
     },
     "metadata": {},
     "output_type": "display_data"
    },
    {
     "data": {
      "application/vnd.jupyter.widget-view+json": {
       "model_id": "b7df254941064ad5bb78c1ebc3f2950c",
       "version_major": 2,
       "version_minor": 0
      },
      "text/plain": [
       "Validate (train) Epoch 0:   0%|          | 0/313 [00:00<?, ?it/s]"
      ]
     },
     "metadata": {},
     "output_type": "display_data"
    },
    {
     "name": "stdout",
     "output_type": "stream",
     "text": [
      "Epoch 0: training loss: 0.351, accuracy: 87.595\n"
     ]
    },
    {
     "data": {
      "application/vnd.jupyter.widget-view+json": {
       "model_id": "3d46f97efaec46ca99cbeb20f03c53fa",
       "version_major": 2,
       "version_minor": 0
      },
      "text/plain": [
       "Validate Epoch 0:   0%|          | 0/79 [00:00<?, ?it/s]"
      ]
     },
     "metadata": {},
     "output_type": "display_data"
    },
    {
     "name": "stdout",
     "output_type": "stream",
     "text": [
      "Epoch 0: validation loss: 0.697, accuracy: 76.414\n"
     ]
    }
   ],
   "source": [
    "from tqdm.notebook import tqdm\n",
    "\n",
    "\n",
    "#train_acc = []\n",
    "#val_acc = []\n",
    "#train_loss = []\n",
    "#val_loss = []\n",
    "\n",
    "epochs = 1\n",
    "for j in range(epochs):\n",
    "    with tqdm(total=len(train_dataloader), position=0, leave=True, desc=f\"Train Epoch {j}\") as train_bar:\n",
    "        train_one_epoch(train_dataloader, model, loss_fn, optimizer, train_bar)\n",
    "    \n",
    "    # checking on the training & validation loss & accuracy \n",
    "    # for training data - only once every 5 epochs (takes a while) \n",
    "    with tqdm(total=len(train_dataloader), position=0, leave=True, desc=f\"Validate (train) Epoch {j}\") as train_eval:\n",
    "            acc, loss = evaluate(train_dataloader, model, loss_fn, train_eval)\n",
    "            print(f\"Epoch {j}: training loss: {loss:.3f}, accuracy: {acc:.3f}\")\n",
    "            train_acc.append(acc)\n",
    "            train_loss.append(loss)\n",
    "            \n",
    "    with tqdm(total=len(val_dataloader), position=0, leave=True, desc=f\"Validate Epoch {j}\") as val_bar:\n",
    "    \n",
    "        acc_val, loss_val = evaluate(val_dataloader, model, loss_fn, val_bar)\n",
    "        print(f\"Epoch {j}: validation loss: {loss_val:.3f}, accuracy: {acc_val:.3f}\")\n",
    "        val_acc.append(acc_val)\n",
    "        val_loss.append(loss_val)"
   ]
  },
  {
   "cell_type": "code",
   "execution_count": 14,
   "id": "7ad15fd5-72c7-4a6f-a800-f6db10e4ef10",
   "metadata": {
    "editable": true,
    "slideshow": {
     "slide_type": ""
    },
    "tags": []
   },
   "outputs": [
    {
     "data": {
      "text/plain": [
       "<matplotlib.legend.Legend at 0x154f2b3e4910>"
      ]
     },
     "execution_count": 14,
     "metadata": {},
     "output_type": "execute_result"
    },
    {
     "data": {
      "image/png": "[encoded data removed]",
      "text/plain": [
       "<Figure size 1000x300 with 1 Axes>"
      ]
     },
     "metadata": {},
     "output_type": "display_data"
    }
   ],
   "source": [
    "pltsize = 1\n",
    "plt.figure(figsize=(10*pltsize, 3 * pltsize))\n",
    "plt.plot(range(len(train_acc)), train_acc,label = 'Training Acc.' ,marker='o')\n",
    "plt.plot(range(len(val_acc)), val_acc, label = 'Validation Acc.',marker='o' )\n",
    "plt.xlabel('Epoch #')\n",
    "plt.ylabel('Accuracy')\n",
    "plt.legend()"
   ]
  },
  {
   "cell_type": "code",
   "execution_count": 15,
   "id": "5c0df345-abbe-40e9-9106-d2a2caeaafc3",
   "metadata": {},
   "outputs": [
    {
     "data": {
      "text/plain": [
       "<matplotlib.legend.Legend at 0x154f2b12e550>"
      ]
     },
     "execution_count": 15,
     "metadata": {},
     "output_type": "execute_result"
    },
    {
     "data": {
      "image/png": "[encoded data removed]",
      "text/plain": [
       "<Figure size 1000x300 with 1 Axes>"
      ]
     },
     "metadata": {},
     "output_type": "display_data"
    }
   ],
   "source": [
    "pltsize = 1\n",
    "plt.figure(figsize=(10*pltsize, 3 * pltsize))\n",
    "plt.plot(range(len(train_loss)), train_loss,label = 'Training Loss' ,marker='o')\n",
    "plt.plot(range(len(val_loss)), val_loss, label = 'Validation Loss',marker='o' )\n",
    "plt.xlabel('Epoch #')\n",
    "plt.ylabel('Loss')\n",
    "plt.legend()"
   ]
  },
  {
   "cell_type": "markdown",
   "id": "38291130-e796-4e23-91c3-0ad428da31c5",
   "metadata": {},
   "source": [
    "The major change is to increase the kernel size in convolution blocks. This allows the model to capture spatial hierarchies and patterns in data, which are essential characteristics of images. Increasing the number of stages and convolutions also slightly improved the results because of increased number of parameters. Increasing the learning rate enables the model to reach the convergence faster."
   ]
  }
 ],
 "metadata": {
  "kernelspec": {
   "display_name": "conda/2024-04-29",
   "language": "python",
   "name": "2024-04-29"
  },
  "language_info": {
   "codemirror_mode": {
    "name": "ipython",
    "version": 3
   },
   "file_extension": ".py",
   "mimetype": "text/x-python",
   "name": "python",
   "nbconvert_exporter": "python",
   "pygments_lexer": "ipython3",
   "version": "3.11.8"
  }
 },
 "nbformat": 4,
 "nbformat_minor": 5
}
